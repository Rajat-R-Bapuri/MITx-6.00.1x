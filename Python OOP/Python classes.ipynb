{
 "cells": [
  {
   "cell_type": "markdown",
   "metadata": {},
   "source": [
    "# Classes in Python"
   ]
  },
  {
   "cell_type": "code",
   "execution_count": 1,
   "metadata": {
    "collapsed": true
   },
   "outputs": [],
   "source": [
    "class One(object):\n",
    "    def __init__(self, on):\n",
    "        print(\"Class One's __init__\")\n",
    "        self.on = on\n",
    "        \n",
    "    def f(self):\n",
    "        print(\"One class's function f, called from object of \", type(self))\n",
    "    \n",
    "    def __str__(self):  # list of other functionalities\n",
    "                        # like __add__ , __sub__ , __eq__ can be overloaded \n",
    "        return \"Class \\'One\\' with attributes: \" + str(self.on) + \"\\n\""
   ]
  },
  {
   "cell_type": "markdown",
   "metadata": {},
   "source": [
    "## Level 1 inheritance"
   ]
  },
  {
   "cell_type": "code",
   "execution_count": 2,
   "metadata": {
    "collapsed": true
   },
   "outputs": [],
   "source": [
    "class Two(One):\n",
    "    def __init__(self, on, tw):\n",
    "        print(\"Class Two's __init__\")        \n",
    "        One.__init__(self, on)\n",
    "        self.tw = tw\n",
    "    \n",
    "    def f1(self):\n",
    "        print(\"Two class's function f1, called from object of \", type(self))"
   ]
  },
  {
   "cell_type": "markdown",
   "metadata": {},
   "source": [
    "## Multi-level inheritance"
   ]
  },
  {
   "cell_type": "code",
   "execution_count": 3,
   "metadata": {
    "collapsed": true
   },
   "outputs": [],
   "source": [
    "class Three(Two):  # level 2 inheritance\n",
    "    def __init__(self, on, tw, th):\n",
    "        print(\"Class Three's __init__\")        \n",
    "        Two.__init__(self, on, tw)\n",
    "        self.th = th\n",
    "    \n",
    "    def f2(self):\n",
    "        print(\"Three class's function f2, called from object of \", type(self))"
   ]
  },
  {
   "cell_type": "markdown",
   "metadata": {},
   "source": [
    "## Multiple inheritance"
   ]
  },
  {
   "cell_type": "code",
   "execution_count": 4,
   "metadata": {
    "collapsed": true
   },
   "outputs": [],
   "source": [
    "class Four(object): \n",
    "    def __init__(self, fo):\n",
    "        print(\"Class Four's __init__\")        \n",
    "        self.fo = fo\n",
    "    \n",
    "    def f3(self):\n",
    "        print(\"Four class's function f3, called from object of \", type(self))\n",
    "\n",
    "class Five(One, Four):\n",
    "    def __init__(self, on, fo, fi):\n",
    "        print(\"Class Five's __init__\")\n",
    "        One.__init__(self, on)\n",
    "        Four.__init__(self, fo)\n",
    "        self.fi = fi\n",
    "    \n",
    "    def f4(self):\n",
    "        print(\"Five class's function f4, called from object of \", type(self))"
   ]
  },
  {
   "cell_type": "markdown",
   "metadata": {},
   "source": [
    "## Multiple and multi-level inheritance"
   ]
  },
  {
   "cell_type": "code",
   "execution_count": 5,
   "metadata": {
    "collapsed": true
   },
   "outputs": [],
   "source": [
    "class Six(Two, Four):\n",
    "    def __init__(self, on, tw, fo, si):\n",
    "        print(\"Class Six's __init__\")\n",
    "        Two.__init__(self, on, tw)\n",
    "        Four.__init__(self, fo)\n",
    "        self.si = si\n",
    "    \n",
    "    def f5(self):\n",
    "        print(\"Six class's f5, called from object of\", type(self))"
   ]
  },
  {
   "cell_type": "markdown",
   "metadata": {},
   "source": [
    "## Creating instances of each of the classes defined above"
   ]
  },
  {
   "cell_type": "code",
   "execution_count": 19,
   "metadata": {
    "scrolled": true
   },
   "outputs": [
    {
     "name": "stdout",
     "output_type": "stream",
     "text": [
      "Class One's __init__\n"
     ]
    }
   ],
   "source": [
    "aon = One(1)          # 'One' is simple class"
   ]
  },
  {
   "cell_type": "code",
   "execution_count": 20,
   "metadata": {},
   "outputs": [
    {
     "name": "stdout",
     "output_type": "stream",
     "text": [
      "Class Two's __init__\n",
      "Class One's __init__\n"
     ]
    }
   ],
   "source": [
    "btw = Two(1, 2)       # 'Two' is level 1 inherited "
   ]
  },
  {
   "cell_type": "code",
   "execution_count": 21,
   "metadata": {},
   "outputs": [
    {
     "name": "stdout",
     "output_type": "stream",
     "text": [
      "Class Three's __init__\n",
      "Class Two's __init__\n",
      "Class One's __init__\n"
     ]
    }
   ],
   "source": [
    "cth = Three(1, 2, 3)  # 'Three' is level 2 inhertied class"
   ]
  },
  {
   "cell_type": "code",
   "execution_count": 22,
   "metadata": {},
   "outputs": [
    {
     "name": "stdout",
     "output_type": "stream",
     "text": [
      "Class Four's __init__\n"
     ]
    }
   ],
   "source": [
    "dfo = Four(4)         # 'Four' is simple class"
   ]
  },
  {
   "cell_type": "code",
   "execution_count": 23,
   "metadata": {},
   "outputs": [
    {
     "name": "stdout",
     "output_type": "stream",
     "text": [
      "Class Five's __init__\n",
      "Class One's __init__\n",
      "Class Four's __init__\n"
     ]
    }
   ],
   "source": [
    "efi = Five(1, 4, 5)   # 'Five' is example of multiple inheritance"
   ]
  },
  {
   "cell_type": "code",
   "execution_count": 24,
   "metadata": {},
   "outputs": [
    {
     "name": "stdout",
     "output_type": "stream",
     "text": [
      "Class Six's __init__\n",
      "Class Two's __init__\n",
      "Class One's __init__\n",
      "Class Four's __init__\n"
     ]
    }
   ],
   "source": [
    "fsi = Six(1, 2, 4, 6) # 'Six' is example of multiple and multi-level inheritance"
   ]
  },
  {
   "cell_type": "markdown",
   "metadata": {},
   "source": [
    "## Accessing the atttributes"
   ]
  },
  {
   "cell_type": "code",
   "execution_count": 7,
   "metadata": {},
   "outputs": [
    {
     "name": "stdout",
     "output_type": "stream",
     "text": [
      "Class 'One' with attributes: 1\n",
      "\n"
     ]
    }
   ],
   "source": [
    "aon.on\n",
    "print(aon)"
   ]
  },
  {
   "cell_type": "code",
   "execution_count": 8,
   "metadata": {},
   "outputs": [
    {
     "name": "stdout",
     "output_type": "stream",
     "text": [
      "1\n",
      "2\n"
     ]
    }
   ],
   "source": [
    "print(btw.on)\n",
    "print(btw.tw)"
   ]
  },
  {
   "cell_type": "code",
   "execution_count": 9,
   "metadata": {},
   "outputs": [
    {
     "name": "stdout",
     "output_type": "stream",
     "text": [
      "1\n",
      "2\n",
      "3\n"
     ]
    }
   ],
   "source": [
    "print(cth.on)\n",
    "print(cth.tw)\n",
    "print(cth.th)"
   ]
  },
  {
   "cell_type": "code",
   "execution_count": 10,
   "metadata": {},
   "outputs": [
    {
     "name": "stdout",
     "output_type": "stream",
     "text": [
      "1\n",
      "4\n",
      "5\n"
     ]
    }
   ],
   "source": [
    "print(efi.on)\n",
    "print(efi.fo)\n",
    "print(efi.fi)"
   ]
  },
  {
   "cell_type": "code",
   "execution_count": 11,
   "metadata": {},
   "outputs": [
    {
     "name": "stdout",
     "output_type": "stream",
     "text": [
      "1\n",
      "2\n",
      "4\n",
      "6\n"
     ]
    }
   ],
   "source": [
    "print(fsi.on)\n",
    "print(fsi.tw)\n",
    "print(fsi.fo)\n",
    "print(fsi.si)"
   ]
  },
  {
   "cell_type": "markdown",
   "metadata": {},
   "source": [
    "## Accessing the class methods / behaviours / functions"
   ]
  },
  {
   "cell_type": "code",
   "execution_count": 12,
   "metadata": {},
   "outputs": [
    {
     "name": "stdout",
     "output_type": "stream",
     "text": [
      "One class's function f, called from object of  <class '__main__.One'>\n"
     ]
    }
   ],
   "source": [
    "aon.f()"
   ]
  },
  {
   "cell_type": "code",
   "execution_count": 13,
   "metadata": {},
   "outputs": [
    {
     "name": "stdout",
     "output_type": "stream",
     "text": [
      "One class's function f, called from object of  <class '__main__.Two'>\n",
      "Two class's function f1, called from object of  <class '__main__.Two'>\n"
     ]
    }
   ],
   "source": [
    "btw.f()\n",
    "\n",
    "btw.f1()"
   ]
  },
  {
   "cell_type": "code",
   "execution_count": 14,
   "metadata": {},
   "outputs": [
    {
     "name": "stdout",
     "output_type": "stream",
     "text": [
      "One class's function f, called from object of  <class '__main__.Three'>\n",
      "Two class's function f1, called from object of  <class '__main__.Three'>\n",
      "Three class's function f2, called from object of  <class '__main__.Three'>\n"
     ]
    }
   ],
   "source": [
    "cth.f()\n",
    "\n",
    "cth.f1()\n",
    "\n",
    "cth.f2()"
   ]
  },
  {
   "cell_type": "code",
   "execution_count": 15,
   "metadata": {},
   "outputs": [
    {
     "name": "stdout",
     "output_type": "stream",
     "text": [
      "Four class's function f3, called from object of  <class '__main__.Four'>\n"
     ]
    }
   ],
   "source": [
    "dfo.f3()"
   ]
  },
  {
   "cell_type": "code",
   "execution_count": 16,
   "metadata": {},
   "outputs": [
    {
     "name": "stdout",
     "output_type": "stream",
     "text": [
      "One class's function f, called from object of  <class '__main__.Five'>\n",
      "Four class's function f3, called from object of  <class '__main__.Five'>\n",
      "Five class's function f4, called from object of  <class '__main__.Five'>\n"
     ]
    }
   ],
   "source": [
    "efi.f()\n",
    "\n",
    "efi.f3()\n",
    "\n",
    "efi.f4()"
   ]
  },
  {
   "cell_type": "code",
   "execution_count": 17,
   "metadata": {
    "scrolled": true
   },
   "outputs": [
    {
     "name": "stdout",
     "output_type": "stream",
     "text": [
      "One class's function f, called from object of  <class '__main__.Six'>\n",
      "Two class's function f1, called from object of  <class '__main__.Six'>\n",
      "Six class's f5, called from object of <class '__main__.Six'>\n"
     ]
    }
   ],
   "source": [
    "fsi.f()\n",
    "\n",
    "fsi.f1()\n",
    "\n",
    "fsi.f5()"
   ]
  },
  {
   "cell_type": "markdown",
   "metadata": {},
   "source": [
    "## Data and def hiding using __ (double underscore) before the attribute and method name"
   ]
  },
  {
   "cell_type": "code",
   "execution_count": 18,
   "metadata": {
    "scrolled": true
   },
   "outputs": [
    {
     "ename": "AttributeError",
     "evalue": "'datahider' object has no attribute '__f'",
     "output_type": "error",
     "traceback": [
      "\u001b[1;31m---------------------------------------------------------------------------\u001b[0m",
      "\u001b[1;31mAttributeError\u001b[0m                            Traceback (most recent call last)",
      "\u001b[1;32m<ipython-input-18-87f0b274b424>\u001b[0m in \u001b[0;36m<module>\u001b[1;34m()\u001b[0m\n\u001b[0;32m      8\u001b[0m \u001b[1;33m\u001b[0m\u001b[0m\n\u001b[0;32m      9\u001b[0m \u001b[0ma\u001b[0m \u001b[1;33m=\u001b[0m \u001b[0mdatahider\u001b[0m\u001b[1;33m(\u001b[0m\u001b[1;36m1\u001b[0m\u001b[1;33m)\u001b[0m\u001b[1;33m\u001b[0m\u001b[0m\n\u001b[1;32m---> 10\u001b[1;33m \u001b[0ma\u001b[0m\u001b[1;33m.\u001b[0m\u001b[0m__f\u001b[0m  \u001b[1;31m# this produces attribute error as method __f is hidden\u001b[0m\u001b[1;33m\u001b[0m\u001b[0m\n\u001b[0m",
      "\u001b[1;31mAttributeError\u001b[0m: 'datahider' object has no attribute '__f'"
     ]
    }
   ],
   "source": [
    "class datahider(object):\n",
    "    __n = 1 \n",
    "    def __init__(self, num):\n",
    "        self.num = num\n",
    "    \n",
    "    def __f(self):\n",
    "        print(\"Hello\")\n",
    "        \n",
    "a = datahider(1)\n",
    "a.__f  # this produces attribute error as method __f is hidden"
   ]
  },
  {
   "cell_type": "code",
   "execution_count": null,
   "metadata": {},
   "outputs": [],
   "source": [
    "a.__n  # this produces attribute error as variable __n is hidden"
   ]
  }
 ],
 "metadata": {
  "kernelspec": {
   "display_name": "Python 3",
   "language": "python",
   "name": "python3"
  },
  "language_info": {
   "codemirror_mode": {
    "name": "ipython",
    "version": 3
   },
   "file_extension": ".py",
   "mimetype": "text/x-python",
   "name": "python",
   "nbconvert_exporter": "python",
   "pygments_lexer": "ipython3",
   "version": "3.6.2"
  }
 },
 "nbformat": 4,
 "nbformat_minor": 2
}
